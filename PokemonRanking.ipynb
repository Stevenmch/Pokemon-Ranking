{
 "cells": [
  {
   "cell_type": "markdown",
   "metadata": {},
   "source": [
    "# What are the most powerful Pokemon of each generation?\n",
    "\n",
    "First, let's make sure have downloaded the dataset of Pokemon and remember its location"
   ]
  },
  {
   "cell_type": "code",
   "execution_count": 14,
   "metadata": {},
   "outputs": [],
   "source": [
    "# Common imports\n",
    "import torch\n",
    "import numpy as np\n",
    "import pandas as pd"
   ]
  },
  {
   "cell_type": "markdown",
   "metadata": {},
   "source": [
    "In the next code line you must change the location of the dataframe, remember where you saved it"
   ]
  },
  {
   "cell_type": "code",
   "execution_count": 15,
   "metadata": {
    "tags": []
   },
   "outputs": [],
   "source": [
    "# Load our dataset\n",
    "dataframe = pd.read_csv('C:/Users/estiv/OneDrive/Desktop/datasets_121_280_Pokemon.csv')"
   ]
  },
  {
   "cell_type": "code",
   "execution_count": 16,
   "metadata": {
    "tags": []
   },
   "outputs": [],
   "source": [
    "# We are going to make a subset of the information that interest us\n",
    "subset = dataframe[['Total', 'Generation']]"
   ]
  },
  {
   "cell_type": "code",
   "execution_count": 17,
   "metadata": {
    "tags": []
   },
   "outputs": [],
   "source": [
    "# Create the tensor with our values\n",
    "pokemoninfo = torch.tensor(subset.values).float()\n",
    "pokemonNames = dataframe['Name']"
   ]
  },
  {
   "cell_type": "code",
   "execution_count": 18,
   "metadata": {},
   "outputs": [],
   "source": [
    "# Get information about the power of our Pokemon, the total power is in the first column\n",
    "data = pokemoninfo[:, 0]"
   ]
  },
  {
   "cell_type": "code",
   "execution_count": 19,
   "metadata": {
    "tags": []
   },
   "outputs": [],
   "source": [
    "# Likewise, get generation information\n",
    "generation = pokemoninfo[:, 1]"
   ]
  },
  {
   "cell_type": "code",
   "execution_count": 20,
   "metadata": {
    "tags": []
   },
   "outputs": [],
   "source": [
    "# Calculate the mean due to we need to know what is the score of the average pokemon \n",
    "mean = torch.mean(data, dim=0)"
   ]
  },
  {
   "cell_type": "code",
   "execution_count": 21,
   "metadata": {},
   "outputs": [],
   "source": [
    "# Calculate the standard deviation to find out how dispersed the data is relative to the mean\n",
    "std = torch.std(data, dim=0)"
   ]
  },
  {
   "cell_type": "code",
   "execution_count": 22,
   "metadata": {
    "tags": []
   },
   "outputs": [],
   "source": [
    "# We need to separate the generations\n",
    "firstGeneration = pokemoninfo[torch.eq(generation, 1)]\n",
    "secondGeneration = pokemoninfo[torch.eq(generation, 2)]\n",
    "thirdGeneration = pokemoninfo[torch.eq(generation, 3)]\n",
    "fourthGeneration = pokemoninfo[torch.eq(generation, 4)]\n",
    "fifthGeneration = pokemoninfo[torch.eq(generation, 5)]\n",
    "sixthGeneration = pokemoninfo[torch.eq(generation, 6)]\n",
    "\n",
    "firstLength = 0\n",
    "secondLength = firstGeneration.shape[0]\n",
    "thirdLength = secondGeneration.shape[0] + secondLength\n",
    "fourthLength = thirdGeneration.shape[0] + thirdLength\n",
    "fifthLength = fourthGeneration.shape[0] + fourthLength\n",
    "sixthLength = firstGeneration.shape[0] + fifthLength"
   ]
  },
  {
   "cell_type": "code",
   "execution_count": 23,
   "metadata": {
    "tags": []
   },
   "outputs": [],
   "source": [
    "# Identify our Pokemon with high level\n",
    "highScore = mean + std"
   ]
  },
  {
   "cell_type": "code",
   "execution_count": 24,
   "metadata": {},
   "outputs": [],
   "source": [
    "# Create the function for organize the data\n",
    "def organize(strongPokemon, rowGeneration):\n",
    "\n",
    "    boolTensor = torch.tensor(torch.ge(strongPokemon[:, 0], highScore))\n",
    "    positionList = []\n",
    "\n",
    "    for position, item in enumerate(boolTensor):\n",
    "        if item == True:\n",
    "            positionList.append(position)\n",
    "            \n",
    "# Print the names of Pokemon with respective data (power and generation)\n",
    "    length = strongPokemon.shape[0]\n",
    "    for i, args in enumerate(zip(pokemonNames[rowGeneration:rowGeneration + length], strongPokemon[0:length, 0], strongPokemon[0:length, 1])):\n",
    "        \n",
    "        for j in positionList:\n",
    "            if i == j:\n",
    "                print('{:25} {:6.2f} {:6.2f}'.format(*args))"
   ]
  },
  {
   "cell_type": "markdown",
   "metadata": {},
   "source": [
    "# Finally, the most powerful Pokemon of each generation are..."
   ]
  },
  {
   "cell_type": "code",
   "execution_count": 29,
   "metadata": {
    "tags": []
   },
   "outputs": [
    {
     "output_type": "stream",
     "name": "stdout",
     "text": "------First generation-------\nVenusaurMega Venusaur     625.00   1.00\nCharizardMega Charizard X 634.00   1.00\nCharizardMega Charizard Y 634.00   1.00\nBlastoiseMega Blastoise   630.00   1.00\nPidgeotMega Pidgeot       579.00   1.00\nAlakazamMega Alakazam     590.00   1.00\nSlowbroMega Slowbro       590.00   1.00\nGengarMega Gengar         600.00   1.00\nKangaskhanMega Kangaskhan 590.00   1.00\nPinsirMega Pinsir         600.00   1.00\nGyaradosMega Gyarados     640.00   1.00\nAerodactylMega Aerodactyl 615.00   1.00\nArticuno                  580.00   1.00\nZapdos                    580.00   1.00\nMoltres                   580.00   1.00\nDragonite                 600.00   1.00\nMewtwo                    680.00   1.00\nMewtwoMega Mewtwo X       780.00   1.00\nMewtwoMega Mewtwo Y       780.00   1.00\nMew                       600.00   1.00\n------Second generation-------\nAmpharosMega Ampharos     610.00   2.00\nSteelixMega Steelix       610.00   2.00\nScizorMega Scizor         600.00   2.00\nHeracrossMega Heracross   600.00   2.00\nHoundoomMega Houndoom     600.00   2.00\nRaikou                    580.00   2.00\nEntei                     580.00   2.00\nSuicune                   580.00   2.00\nTyranitar                 600.00   2.00\nTyranitarMega Tyranitar   700.00   2.00\nLugia                     680.00   2.00\nHo-oh                     680.00   2.00\nCelebi                    600.00   2.00\n------Third generation-------\nSceptileMega Sceptile     630.00   3.00\nBlazikenMega Blaziken     630.00   3.00\nSwampertMega Swampert     635.00   3.00\nGardevoirMega Gardevoir   618.00   3.00\nSlaking                   670.00   3.00\nAggronMega Aggron         630.00   3.00\nManectricMega Manectric   575.00   3.00\nSharpedoMega Sharpedo     560.00   3.00\nCameruptMega Camerupt     560.00   3.00\nAltariaMega Altaria       590.00   3.00\nAbsolMega Absol           565.00   3.00\nGlalieMega Glalie         580.00   3.00\nSalamence                 600.00   3.00\nSalamenceMega Salamence   700.00   3.00\nMetagross                 600.00   3.00\nMetagrossMega Metagross   700.00   3.00\nRegirock                  580.00   3.00\nRegice                    580.00   3.00\nRegisteel                 580.00   3.00\nLatias                    600.00   3.00\nLatiasMega Latias         700.00   3.00\nLatios                    600.00   3.00\nLatiosMega Latios         700.00   3.00\nKyogre                    670.00   3.00\nKyogrePrimal Kyogre       770.00   3.00\nGroudon                   670.00   3.00\nGroudonPrimal Groudon     770.00   3.00\nRayquaza                  680.00   3.00\nRayquazaMega Rayquaza     780.00   3.00\nJirachi                   600.00   3.00\nDeoxysNormal Forme        600.00   3.00\nDeoxysAttack Forme        600.00   3.00\nDeoxysDefense Forme       600.00   3.00\nDeoxysSpeed Forme         600.00   3.00\n------Fourth generation-------\nLopunnyMega Lopunny       580.00   4.00\nGarchomp                  600.00   4.00\nGarchompMega Garchomp     700.00   4.00\nLucarioMega Lucario       625.00   4.00\nAbomasnowMega Abomasnow   594.00   4.00\nGalladeMega Gallade       618.00   4.00\nUxie                      580.00   4.00\nMesprit                   580.00   4.00\nAzelf                     580.00   4.00\nDialga                    680.00   4.00\nPalkia                    680.00   4.00\nHeatran                   600.00   4.00\nRegigigas                 670.00   4.00\nGiratinaAltered Forme     680.00   4.00\nGiratinaOrigin Forme      680.00   4.00\nCresselia                 600.00   4.00\nManaphy                   600.00   4.00\nDarkrai                   600.00   4.00\nShayminLand Forme         600.00   4.00\nShayminSky Forme          600.00   4.00\nArceus                    720.00   4.00\n------Fifth generation-------\nVictini                   600.00   5.00\nArcheops                  567.00   5.00\nHydreigon                 600.00   5.00\nCobalion                  580.00   5.00\nTerrakion                 580.00   5.00\nVirizion                  580.00   5.00\nTornadusIncarnate Forme   580.00   5.00\nTornadusTherian Forme     580.00   5.00\nThundurusIncarnate Forme  580.00   5.00\nThundurusTherian Forme    580.00   5.00\nReshiram                  680.00   5.00\nZekrom                    680.00   5.00\nLandorusIncarnate Forme   600.00   5.00\nLandorusTherian Forme     600.00   5.00\nKyurem                    660.00   5.00\nKyuremBlack Kyurem        700.00   5.00\nKyuremWhite Kyurem        700.00   5.00\nKeldeoOrdinary Forme      580.00   5.00\nKeldeoResolute Forme      580.00   5.00\nMeloettaAria Forme        600.00   5.00\nMeloettaPirouette Forme   600.00   5.00\nGenesect                  600.00   5.00\n------Sixth generation-------\nKlefki                    600.00   6.00\nYveltal                   680.00   6.00\nZygarde50% Forme          680.00   6.00\nDiancie                   600.00   6.00\nDiancieMega Diancie       600.00   6.00\nHoopaHoopa Confined       700.00   6.00\nHoopaHoopa Unbound        600.00   6.00\nVolcanion                 680.00   6.00\n"
    }
   ],
   "source": [
    "print('------First generation-------')\n",
    "organize(firstGeneration, firstLength)\n",
    "print('------Second generation-------')\n",
    "organize(secondGeneration, secondLength)\n",
    "print('------Third generation-------')\n",
    "organize(thirdGeneration, thirdLength)\n",
    "print('------Fourth generation-------')\n",
    "organize(fourthGeneration, fourthLength)\n",
    "print('------Fifth generation-------')\n",
    "organize(fifthGeneration, fifthLength)\n",
    "print('------Sixth generation-------')\n",
    "organize(sixthGeneration, sixthLength)  "
   ]
  }
 ],
 "metadata": {
  "language_info": {
   "codemirror_mode": {
    "name": "ipython",
    "version": 3
   },
   "file_extension": ".py",
   "mimetype": "text/x-python",
   "name": "python",
   "nbconvert_exporter": "python",
   "pygments_lexer": "ipython3",
   "version": 3
  },
  "orig_nbformat": 2,
  "kernelspec": {
   "name": "python_defaultSpec_1596750353636",
   "display_name": "Python 3.7.7 64-bit ('Platzi - FundamentosAL': conda)"
  }
 },
 "nbformat": 4,
 "nbformat_minor": 2
}